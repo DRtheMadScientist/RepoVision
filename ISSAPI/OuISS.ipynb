{
  "nbformat": 4,
  "nbformat_minor": 0,
  "metadata": {
    "colab": {
      "provenance": []
    },
    "kernelspec": {
      "name": "python3",
      "display_name": "Python 3"
    },
    "language_info": {
      "name": "python"
    }
  },
  "cells": [
    {
      "cell_type": "code",
      "execution_count": 18,
      "metadata": {
        "id": "UFcS0C_qBh8Y"
      },
      "outputs": [],
      "source": [
        "# Ou est l'iSS\n",
        "import requests\n",
        "from datetime import datetime\n",
        "import smtplib\n",
        "import time\n",
        "\n"
      ]
    },
    {
      "cell_type": "code",
      "source": [
        "\n",
        "# Ou est ce que je suis ?\n",
        "LAT_perso = 2.2740\n",
        "LONG_perso = 48.5619\n",
        "EMAIL = \"djabril.rezkallah@gmail.com\"\n",
        "PASS = \"0000\"\n",
        "\n"
      ],
      "metadata": {
        "id": "5VOmADaMCawg"
      },
      "execution_count": 19,
      "outputs": []
    },
    {
      "cell_type": "code",
      "source": [
        "\n",
        "def is_iss_overhead():\n",
        "    # fetching the response from api\n",
        "    response = requests.get(url=\"http://api.open-notify.org/iss-now.json\")\n",
        "  \n",
        "    response.raise_for_status() # Rapporte l'erreur\n",
        "    \n",
        "    data = response.json()  # fetching data from api requests\n",
        "\n",
        "    # Valeurs de l'iss en long et lat dans mes variables\n",
        "    iss_latitude = float(data[\"iss_position\"][\"latitude\"])\n",
        "    iss_longitude = float(data[\"iss_position\"][\"longitude\"])\n",
        "\n",
        "    # Incertitude de passage de l'iss à + ou - 10° (choix arbitraire)\n",
        "    if LAT_perso - 10 <= iss_latitude <= LAT_perso + 10 and LONG_perso - 10 <= iss_longitude <= LONG_perso + 10:\n",
        "        return True\n"
      ],
      "metadata": {
        "id": "k4wGgPqYCl7o"
      },
      "execution_count": 20,
      "outputs": []
    },
    {
      "cell_type": "code",
      "source": [
        "\n",
        "\n",
        "def is_night():\n",
        "    parameters = {\n",
        "        \"lat\":LAT_perso,\n",
        "        \"long\": LONG_perso,\n",
        "        \"format\": 0,\n",
        "    }\n",
        "\n",
        "    # On va fetcher les données de l'api pour prendre en compte le lever de soleil\n",
        "    response = requests.get(\"https://api.sunrise-sunset.org/json\", params=parameters)\n",
        "    response.raise_for_status()\n",
        "    sun_data = response.json()\n",
        "    sunrise = int(sun_data[\"results\"][\"sunrise\"].split(\"T\")[1].split(\":\")[0])\n",
        "    sunset = int(sun_data[\"results\"][\"sunset\"].split(\"T\")[1].split(\":\")[0])\n",
        "    # temps actuel\n",
        "    time_now = datetime.now().hour\n",
        "    # si on peut l'apercevoir\n",
        "    if time_now >= sunset or time_now <= sunrise:\n",
        "        return True\n"
      ],
      "metadata": {
        "id": "u5-GIsIwCqtg"
      },
      "execution_count": 21,
      "outputs": []
    },
    {
      "cell_type": "code",
      "source": [
        "\n",
        "\n",
        "while True:\n",
        "    \n",
        "    time.sleep(3)\n",
        "    # Si il fait nuit j'envois un mail quand l'iss passe\n",
        "    if is_iss_overhead() and is_night():\n",
        "        # connecting the gmail server\n",
        "        connection = smtplib.SMTP(\"lemailpourenvoyer.gmail.com\")\n",
        "        connection.starttls()\n",
        "        connection.login(EMAIL, PASS)\n",
        "        # send the mail\n",
        "        connection.sendmail(\n",
        "            from_addr=EMAIL,\n",
        "            to_addrs=EMAIL,\n",
        "            msg=\"Subject: Look Up \\n\\n The ISS is above you in the sky.\"\n",
        "        )"
      ],
      "metadata": {
        "colab": {
          "base_uri": "https://localhost:8080/",
          "height": 241
        },
        "id": "uzLWVi2ACs84",
        "outputId": "c74b7b74-a999-4d1b-d746-5a38d1136cd6"
      },
      "execution_count": 22,
      "outputs": [
        {
          "output_type": "error",
          "ename": "KeyboardInterrupt",
          "evalue": "ignored",
          "traceback": [
            "\u001b[0;31m---------------------------------------------------------------------------\u001b[0m",
            "\u001b[0;31mKeyboardInterrupt\u001b[0m                         Traceback (most recent call last)",
            "\u001b[0;32m<ipython-input-22-21a728864257>\u001b[0m in \u001b[0;36m<module>\u001b[0;34m\u001b[0m\n\u001b[1;32m      1\u001b[0m \u001b[0;32mwhile\u001b[0m \u001b[0;32mTrue\u001b[0m\u001b[0;34m:\u001b[0m\u001b[0;34m\u001b[0m\u001b[0;34m\u001b[0m\u001b[0m\n\u001b[1;32m      2\u001b[0m \u001b[0;34m\u001b[0m\u001b[0m\n\u001b[0;32m----> 3\u001b[0;31m     \u001b[0mtime\u001b[0m\u001b[0;34m.\u001b[0m\u001b[0msleep\u001b[0m\u001b[0;34m(\u001b[0m\u001b[0;36m3\u001b[0m\u001b[0;34m)\u001b[0m\u001b[0;34m\u001b[0m\u001b[0;34m\u001b[0m\u001b[0m\n\u001b[0m\u001b[1;32m      4\u001b[0m     \u001b[0;31m# Si il fait nuit j'envois un mail quand l'iss passe\u001b[0m\u001b[0;34m\u001b[0m\u001b[0;34m\u001b[0m\u001b[0;34m\u001b[0m\u001b[0m\n\u001b[1;32m      5\u001b[0m     \u001b[0;32mif\u001b[0m \u001b[0mis_iss_overhead\u001b[0m\u001b[0;34m(\u001b[0m\u001b[0;34m)\u001b[0m \u001b[0;32mand\u001b[0m \u001b[0mis_night\u001b[0m\u001b[0;34m(\u001b[0m\u001b[0;34m)\u001b[0m\u001b[0;34m:\u001b[0m\u001b[0;34m\u001b[0m\u001b[0;34m\u001b[0m\u001b[0m\n",
            "\u001b[0;31mKeyboardInterrupt\u001b[0m: "
          ]
        }
      ]
    }
  ]
}